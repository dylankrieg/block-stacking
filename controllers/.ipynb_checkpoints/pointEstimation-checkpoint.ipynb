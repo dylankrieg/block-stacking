{
 "cells": [
  {
   "cell_type": "code",
   "execution_count": null,
   "id": "3c3971ad-f52e-470f-96fa-73e79c85a975",
   "metadata": {},
   "outputs": [],
   "source": []
  },
  {
   "cell_type": "markdown",
   "id": "b758a511-6503-4488-b92c-2f864adc29ac",
   "metadata": {},
   "source": [
    "$\\vec{y}=f(\\vec{x},\\vec{\\eta})$\n",
    "\n",
    "$f:(\\mathbb{R}^n,\\mathbb{R}^k) \\rightarrow \\mathbb{R}^m$\n",
    "\n",
    "$\\vec{x}$ represents the observed n-dimensional value?\n",
    "\n",
    "$\\vec{x} = \\begin {bmatrix} x_1 \\\\ x_2 \\\\ ... \\\\x_n \\end{bmatrix} \\in \\mathbb{R}^n$\n",
    "\n",
    "$\\vec{y}$ represents the actual value we want to estimate?\n",
    "\n",
    "$\\vec{y} = \\begin {bmatrix} y_1 \\\\ y_2 \\\\ ... \\\\y_m \\end{bmatrix} \\in \\mathbb{R}^m$\n",
    "\n",
    "\n",
    "\n",
    "$\\vec{\\eta}$ represents an unknown disturabance \n",
    "\n",
    "$\\vec{\\eta} = \\begin {bmatrix} \\eta_1 \\\\ \\eta_2 \\\\ ... \\\\\\eta_k \\end{bmatrix} \\in \\mathbb{R}^k$\n",
    "\n",
    "$m = n + n $"
   ]
  },
  {
   "cell_type": "code",
   "execution_count": null,
   "id": "c2aea50a-0f43-41b0-8506-5f07c23930fd",
   "metadata": {},
   "outputs": [],
   "source": []
  }
 ],
 "metadata": {
  "kernelspec": {
   "display_name": "Python 3 (ipykernel)",
   "language": "python",
   "name": "python3"
  },
  "language_info": {
   "codemirror_mode": {
    "name": "ipython",
    "version": 3
   },
   "file_extension": ".py",
   "mimetype": "text/x-python",
   "name": "python",
   "nbconvert_exporter": "python",
   "pygments_lexer": "ipython3",
   "version": "3.8.12"
  }
 },
 "nbformat": 4,
 "nbformat_minor": 5
}
