{
 "cells": [
  {
   "cell_type": "code",
   "execution_count": 19,
   "id": "dbd1e579-ac53-4dc6-9c5e-36f2e1b819c5",
   "metadata": {},
   "outputs": [
    {
     "name": "stdout",
     "output_type": "stream",
     "text": [
      "/Users/dylankriegman/Desktop/block-stacking/test\n",
      "running test\n"
     ]
    }
   ],
   "source": [
    "import os\n",
    "print(os.environ[\"PYTHONPATH\"])\n",
    "import testFile\n",
    "testFile.testFunc()"
   ]
  },
  {
   "cell_type": "code",
   "execution_count": 12,
   "id": "b098ac25-8e01-46fb-ad7d-4eb40985c107",
   "metadata": {},
   "outputs": [
    {
     "name": "stdout",
     "output_type": "stream",
     "text": [
      "/Users/dylankriegman/Desktop/block-stacking/test\n"
     ]
    },
    {
     "data": {
      "text/plain": [
       "['testFile.py', '__pycache__']"
      ]
     },
     "execution_count": 12,
     "metadata": {},
     "output_type": "execute_result"
    }
   ],
   "source": [
    "import os\n",
    "print(os.environ[\"JUPYTER_PATH\"])\n",
    "os.listdir(os.environ[\"JUPYTER_PATH\"])"
   ]
  },
  {
   "cell_type": "code",
   "execution_count": 8,
   "id": "1aeb2497-256c-4144-9398-6349ca7eb443",
   "metadata": {},
   "outputs": [
    {
     "ename": "ModuleNotFoundError",
     "evalue": "No module named 'testFile'",
     "output_type": "error",
     "traceback": [
      "\u001b[0;31m---------------------------------------------------------------------------\u001b[0m",
      "\u001b[0;31mModuleNotFoundError\u001b[0m                       Traceback (most recent call last)",
      "\u001b[0;32m/tmp/ipykernel_37791/180553510.py\u001b[0m in \u001b[0;36m<module>\u001b[0;34m\u001b[0m\n\u001b[0;32m----> 1\u001b[0;31m \u001b[0;32mimport\u001b[0m \u001b[0mtestFile\u001b[0m\u001b[0;34m\u001b[0m\u001b[0;34m\u001b[0m\u001b[0m\n\u001b[0m\u001b[1;32m      2\u001b[0m \u001b[0mtestFile\u001b[0m\u001b[0;34m.\u001b[0m\u001b[0mtestFunc\u001b[0m\u001b[0;34m(\u001b[0m\u001b[0;34m)\u001b[0m\u001b[0;34m\u001b[0m\u001b[0;34m\u001b[0m\u001b[0m\n",
      "\u001b[0;31mModuleNotFoundError\u001b[0m: No module named 'testFile'"
     ]
    }
   ],
   "source": [
    "import testFile\n",
    "testFile.testFunc()"
   ]
  },
  {
   "cell_type": "code",
   "execution_count": null,
   "id": "9218d8c3-acfb-4e20-b0f5-8cc24e8c4490",
   "metadata": {},
   "outputs": [],
   "source": []
  }
 ],
 "metadata": {
  "kernelspec": {
   "display_name": "Python 3 (ipykernel)",
   "language": "python",
   "name": "python3"
  },
  "language_info": {
   "codemirror_mode": {
    "name": "ipython",
    "version": 3
   },
   "file_extension": ".py",
   "mimetype": "text/x-python",
   "name": "python",
   "nbconvert_exporter": "python",
   "pygments_lexer": "ipython3",
   "version": "3.8.12"
  }
 },
 "nbformat": 4,
 "nbformat_minor": 5
}
