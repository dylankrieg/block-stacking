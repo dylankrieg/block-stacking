{
 "cells": [
  {
   "cell_type": "code",
   "execution_count": 43,
   "id": "5efecedd-4ef2-4750-937d-adc847cd009b",
   "metadata": {},
   "outputs": [
    {
     "ename": "ModuleNotFoundError",
     "evalue": "No module named 'testImport'",
     "output_type": "error",
     "traceback": [
      "\u001b[0;31m---------------------------------------------------------------------------\u001b[0m",
      "\u001b[0;31mModuleNotFoundError\u001b[0m                       Traceback (most recent call last)",
      "\u001b[0;32m/tmp/ipykernel_37791/868093066.py\u001b[0m in \u001b[0;36m<module>\u001b[0;34m\u001b[0m\n\u001b[1;32m      1\u001b[0m \u001b[0;32mimport\u001b[0m \u001b[0mos\u001b[0m\u001b[0;34m\u001b[0m\u001b[0;34m\u001b[0m\u001b[0m\n\u001b[1;32m      2\u001b[0m \u001b[0mos\u001b[0m\u001b[0;34m.\u001b[0m\u001b[0menviron\u001b[0m\u001b[0;34m[\u001b[0m\u001b[0;34m\"PYTHONPATH\"\u001b[0m\u001b[0;34m]\u001b[0m \u001b[0;34m=\u001b[0m \u001b[0;34m\"/Applications/Webots.app/Contents/lib/controller/python38_brew\"\u001b[0m\u001b[0;34m\u001b[0m\u001b[0;34m\u001b[0m\u001b[0m\n\u001b[0;32m----> 3\u001b[0;31m \u001b[0;32mimport\u001b[0m \u001b[0mtestImport\u001b[0m\u001b[0;34m\u001b[0m\u001b[0;34m\u001b[0m\u001b[0m\n\u001b[0m",
      "\u001b[0;31mModuleNotFoundError\u001b[0m: No module named 'testImport'"
     ]
    }
   ],
   "source": [
    "import os\n",
    "os.environ[\"PYTHONPATH\"] = \"/Applications/Webots.app/Contents/lib/controller/python38_brew\"\n",
    "import testImport\n"
   ]
  },
  {
   "cell_type": "code",
   "execution_count": 46,
   "id": "f924e403-d5d0-48e9-865a-586127638afb",
   "metadata": {},
   "outputs": [
    {
     "name": "stdout",
     "output_type": "stream",
     "text": [
      "\n"
     ]
    }
   ],
   "source": [
    "import os\n",
    "#os.environ[\"PYTHONPATH\"] = \"/Users/dylankriegman/Desktop/block-stacking/test2\"\n",
    "os.environ[\"PYTHONPATH\"] = \"\"\n",
    "print(os.environ[\"PYTHONPATH\"])\n",
    "import testFile\n",
    "# test2.testFunc()"
   ]
  },
  {
   "cell_type": "code",
   "execution_count": 50,
   "id": "9218d8c3-acfb-4e20-b0f5-8cc24e8c4490",
   "metadata": {},
   "outputs": [
    {
     "ename": "ImportError",
     "evalue": "dlopen(/Applications/Webots.app/Contents/lib/controller/python38_brew/_controller.so, 0x0002): Library not loaded: '@rpath/Contents/lib/controller/libController.dylib'\n  Referenced from: '/Applications/Webots.app/Contents/lib/controller/python38_brew/_controller.so'\n  Reason: tried: '/Applications/Webots.app/Contents/lib/controller/python38_brew/../../../Contents/lib/controller/libController.dylib' (no such file), '/Applications/Webots.app/Contents/lib/controller/python38_brew/../../../Contents/lib/controller/libController.dylib' (no such file), '/Applications/JupyterLab.app/Contents/Resources/jlab_server/lib/Contents/lib/controller/libController.dylib' (no such file), '/Applications/JupyterLab.app/Contents/Resources/jlab_server/bin/../lib/Contents/lib/controller/libController.dylib' (no such file), '/Applications/JupyterLab.app/Contents/Resources/jlab_server/lib/Contents/lib/controller/libController.dylib' (no such file), '/Applications/JupyterLab.app/Contents/Resources/jlab_server/bin/../lib/Contents/lib/controller/libController.dylib' (no such file), '/usr/local/lib/libController.dylib' (no such file), '/usr/lib/libController.dylib' (no such file)",
     "output_type": "error",
     "traceback": [
      "\u001b[0;31m---------------------------------------------------------------------------\u001b[0m",
      "\u001b[0;31mImportError\u001b[0m                               Traceback (most recent call last)",
      "\u001b[0;32m/tmp/ipykernel_37791/2848225395.py\u001b[0m in \u001b[0;36m<module>\u001b[0;34m\u001b[0m\n\u001b[1;32m      1\u001b[0m \u001b[0msys\u001b[0m\u001b[0;34m.\u001b[0m\u001b[0mpath\u001b[0m\u001b[0;34m.\u001b[0m\u001b[0mappend\u001b[0m\u001b[0;34m(\u001b[0m\u001b[0;34m\"/Applications/Webots.app/Contents/lib/controller/python38_brew\"\u001b[0m\u001b[0;34m)\u001b[0m\u001b[0;34m\u001b[0m\u001b[0;34m\u001b[0m\u001b[0m\n\u001b[0;32m----> 2\u001b[0;31m \u001b[0;32mimport\u001b[0m \u001b[0mcontroller\u001b[0m\u001b[0;34m\u001b[0m\u001b[0;34m\u001b[0m\u001b[0m\n\u001b[0m",
      "\u001b[0;32m/Applications/Webots.app/Contents/lib/controller/python38_brew/controller.py\u001b[0m in \u001b[0;36m<module>\u001b[0;34m\u001b[0m\n\u001b[1;32m     29\u001b[0m     \u001b[0;32mfrom\u001b[0m \u001b[0;34m.\u001b[0m \u001b[0;32mimport\u001b[0m \u001b[0m_controller\u001b[0m\u001b[0;34m\u001b[0m\u001b[0;34m\u001b[0m\u001b[0m\n\u001b[1;32m     30\u001b[0m \u001b[0;32melse\u001b[0m\u001b[0;34m:\u001b[0m\u001b[0;34m\u001b[0m\u001b[0;34m\u001b[0m\u001b[0m\n\u001b[0;32m---> 31\u001b[0;31m     \u001b[0;32mimport\u001b[0m \u001b[0m_controller\u001b[0m\u001b[0;34m\u001b[0m\u001b[0;34m\u001b[0m\u001b[0m\n\u001b[0m\u001b[1;32m     32\u001b[0m \u001b[0;34m\u001b[0m\u001b[0m\n\u001b[1;32m     33\u001b[0m \u001b[0;32mtry\u001b[0m\u001b[0;34m:\u001b[0m\u001b[0;34m\u001b[0m\u001b[0;34m\u001b[0m\u001b[0m\n",
      "\u001b[0;31mImportError\u001b[0m: dlopen(/Applications/Webots.app/Contents/lib/controller/python38_brew/_controller.so, 0x0002): Library not loaded: '@rpath/Contents/lib/controller/libController.dylib'\n  Referenced from: '/Applications/Webots.app/Contents/lib/controller/python38_brew/_controller.so'\n  Reason: tried: '/Applications/Webots.app/Contents/lib/controller/python38_brew/../../../Contents/lib/controller/libController.dylib' (no such file), '/Applications/Webots.app/Contents/lib/controller/python38_brew/../../../Contents/lib/controller/libController.dylib' (no such file), '/Applications/JupyterLab.app/Contents/Resources/jlab_server/lib/Contents/lib/controller/libController.dylib' (no such file), '/Applications/JupyterLab.app/Contents/Resources/jlab_server/bin/../lib/Contents/lib/controller/libController.dylib' (no such file), '/Applications/JupyterLab.app/Contents/Resources/jlab_server/lib/Contents/lib/controller/libController.dylib' (no such file), '/Applications/JupyterLab.app/Contents/Resources/jlab_server/bin/../lib/Contents/lib/controller/libController.dylib' (no such file), '/usr/local/lib/libController.dylib' (no such file), '/usr/lib/libController.dylib' (no such file)"
     ]
    }
   ],
   "source": [
    "os.environ[\"WEBOTS_HOME\"] = \"\"\n",
    "\n",
    "sys.path.append(\"/Applications/Webots.app/Contents/lib/controller/python38_brew\")"
   ]
  },
  {
   "cell_type": "code",
   "execution_count": null,
   "id": "c35390c5-fbeb-4fc5-aec4-1ee7d9fc4c74",
   "metadata": {},
   "outputs": [],
   "source": []
  }
 ],
 "metadata": {
  "kernelspec": {
   "display_name": "Python 3 (ipykernel)",
   "language": "python",
   "name": "python3"
  },
  "language_info": {
   "codemirror_mode": {
    "name": "ipython",
    "version": 3
   },
   "file_extension": ".py",
   "mimetype": "text/x-python",
   "name": "python",
   "nbconvert_exporter": "python",
   "pygments_lexer": "ipython3",
   "version": "3.8.12"
  }
 },
 "nbformat": 4,
 "nbformat_minor": 5
}
